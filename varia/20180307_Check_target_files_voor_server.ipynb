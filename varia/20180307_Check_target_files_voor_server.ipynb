{
 "cells": [
  {
   "cell_type": "code",
   "execution_count": 1,
   "metadata": {
    "collapsed": false
   },
   "outputs": [],
   "source": [
    "import sqlite3\n",
    "import pybedtools\n",
    "import sys\n",
    "import glob\n",
    "import os\n",
    "sys.path.append('/home/manager/Documents/ngsscriptlibrary/')\n",
    "import ngsscriptlibrary as nsl\n",
    "DB = 'captures.sqlite'\n",
    "NGST = '/home/manager/Documents/ngstargets/'"
   ]
  },
  {
   "cell_type": "code",
   "execution_count": 2,
   "metadata": {
    "collapsed": true
   },
   "outputs": [],
   "source": [
    "conn = sqlite3.connect(DB)\n",
    "c = conn.cursor()"
   ]
  },
  {
   "cell_type": "code",
   "execution_count": 3,
   "metadata": {
    "collapsed": false
   },
   "outputs": [],
   "source": [
    "def merge_bed(bedfile):\n",
    "    \"Merge overlaping regions in bedfile. Write bedfile with merged regions\"\n",
    "    bed = pybedtools.BedTool(bedfile)\n",
    "    bed = bed.sort()\n",
    "    bed_merged = bed.merge()\n",
    "    bed_merged.saveas(bedfile)"
   ]
  },
  {
   "cell_type": "code",
   "execution_count": 4,
   "metadata": {
    "collapsed": false
   },
   "outputs": [],
   "source": [
    "for bed in glob.glob('../*/*.bed'):\n",
    "    merge_bed(bed)"
   ]
  },
  {
   "cell_type": "code",
   "execution_count": 5,
   "metadata": {
    "collapsed": true
   },
   "outputs": [],
   "source": [
    "c.execute('SELECT * FROM genesis')\n",
    "out = c.fetchall()"
   ]
  },
  {
   "cell_type": "code",
   "execution_count": 20,
   "metadata": {
    "collapsed": false
   },
   "outputs": [],
   "source": [
    "def parse_bed(bedfn):\n",
    "    \"Read BED. Return list of lists.\"\n",
    "    bed = list()\n",
    "\n",
    "    with open(bedfn, 'r') as f:\n",
    "        lines = [line.rstrip().split() for line in f]\n",
    "    lines = list(line for line in lines if line)\n",
    "    lines = sorted(lines, key=lambda x: (x[0], int(x[1]), int(x[2])))\n",
    "\n",
    "    for line in lines:\n",
    "        chromosome, start, end, gene = line\n",
    "        bed.append([chromosome, start, end, gene])\n",
    "\n",
    "    return bed\n",
    "\n",
    "\n",
    "def write_picard_file(fn, bed_annotated, cap):\n",
    "    with open(fn, 'w') as f:\n",
    "        for line in nsl.get_picard_header():\n",
    "            f.write(line)\n",
    "        for line in bed_annotated:\n",
    "            chromosome, start, end, gene = line\n",
    "            f.write('{}\\t{}\\t{}\\t+\\t{}\\n'.format(chromosome, start, end, cap))\n",
    "            \n",
    "def write_bed_annotated(bed_annotated, fn):            \n",
    "    with open(fn, 'w') as f:\n",
    "        for line in bed_annotated:\n",
    "            chromosome, start, end, gene = line\n",
    "            f.write('{}\\t{}\\t{}\\t{}\\n'.format(chromosome, start, end, gene))\n",
    "\n",
    "def write_varcaltargets(genes, fn, annotator):\n",
    "    with open(fn, 'w') as f:\n",
    "        for g in genes:\n",
    "            for line in annotator.get_region(g):\n",
    "                chromosome, start, end, *_ = line\n",
    "                f.write('{}\\t{}\\t{}\\t{}\\n'.format(chromosome, start, end, g))\n",
    "                \n",
    "def write_sangertargets(genes, fn, bed_annotated):\n",
    "    with open(fn, 'w') as f:\n",
    "        for line in bed_annotated:\n",
    "            chromosome, start, end, gene = line\n",
    "            if gene in genes:\n",
    "                f.write('{}\\t{}\\t{}\\t{}\\n'.format(chromosome, start, end, gene))\n",
    "\n"
   ]
  },
  {
   "cell_type": "code",
   "execution_count": 28,
   "metadata": {
    "collapsed": false,
    "scrolled": true
   },
   "outputs": [
    {
     "name": "stdout",
     "output_type": "stream",
     "text": [
      "/home/manager/Documents/ngstargets/captures/NEUROv4_target.annotated\n",
      "ERROR need more than 3 values to unpack\n",
      "ALS ALStypeAv2\n",
      "/home/manager/Documents/ngstargets/captures/NEUROv4_target.annotated\n",
      "ERROR need more than 3 values to unpack\n",
      "LIMGIR OVRtypeAv1\n",
      "/home/manager/Documents/ngstargets/captures/NEUROv4_target.annotated\n",
      "ERROR need more than 3 values to unpack\n",
      "NEUROP CMTtypeAv3\n",
      "/home/manager/Documents/ngstargets/captures/NEUROv4_target.annotated\n",
      "ERROR need more than 3 values to unpack\n",
      "PCH PCHtypeAv2\n"
     ]
    }
   ],
   "source": [
    "vcaps = list()\n",
    "for _ in out:\n",
    "    genesis, capture, pakket, panel, cnvs, cnvd, moza = _\n",
    "    if panel == 'None':\n",
    "        panel = None\n",
    "        \n",
    "    if pakket == 'PCO':\n",
    "        continue\n",
    "    T = nsl.TargetDatabase(DB)\n",
    "    for cap in T.get_all_captures_for_genesis(genesis):\n",
    "        for vcap in T.get_all_versions_for_capture(cap):\n",
    "            bed = '{}/captures/{}_target.bed'.format(NGST, vcap)\n",
    "            genes = T.get_genes_for_vcapture(vcap)\n",
    "\n",
    "            TA = nsl.TargetAnnotation(bed, host='localhost', user='manager',\n",
    "                                      db='annotation', genes=genes)\n",
    "\n",
    "            bed_annotated = TA.annotate_bed_and_filter_genes()\n",
    "            genes_in_bed = TA.get_genes_in_annotated_bed(bed_annotated)\n",
    "            not_requested = TA.get_genes_not_requested(genesout=genes_in_bed)\n",
    "            not_found = TA.get_genes_not_found(bedgenes=genes_in_bed)\n",
    "            bed_annotated_fn = '{}/captures/{}_target.annotated'.format(NGST, vcap)\n",
    "            picard_file_fn = '{}/captures/{}_target.interval_list'.format(NGST, vcap)\n",
    "\n",
    "            write_bed_annotated(bed_annotated, bed_annotated_fn)\n",
    "            write_picard_file(picard_file_fn, bed_annotated, vcap)\n",
    "            \n",
    "            if capture == pakket:\n",
    "                var_target_fn = '{}/captures/{}_generegions.bed'.format(NGST, vcap)\n",
    "                    write_varcaltargets(genes, var_target_fn, TA)\n",
    "\n",
    "                print(vcap, not_found, not_requested)\n",
    "            for pakket in T.get_all_pakketten_for_genesis(genesis):\n",
    "                vpakketten = T.get_all_versions_for_pakket(pakket)\n",
    "                for vpakket in vpakketten:\n",
    "                    vpakketten_info = T.get_all_info_for_vpakket(vpakket)\n",
    "                    for vpakket_info in vpakketten_info:\n",
    "                        vpakket_grootte, vpakket_genen = vpakket_info\n",
    "                    if capture != pakket:\n",
    "                        var_target_fn = '{}/pakketten/{}_generegions.bed'.format(NGST, vpakket)\n",
    "                            write_varcaltargets(vpakket_genen, var_target_fn, TA)\n",
    "\n",
    "                        for vpakket_gen in vpakket_genen:\n",
    "                            if vpakket_gen not in genes:\n",
    "                                print(genesis, vcap, vpakket, vpakket_gen)\n",
    "\n",
    "                    for vpanel in T.get_all_panels_for_genesis(genesis):\n",
    "                        vpanels = T.get_all_versions_for_panel(panel)\n",
    "                        for vpanel in vpanels:\n",
    "                            vpanel_infos = T.get_all_info_for_vpanel(vpanel)\n",
    "                            for vpanel_info in vpanel_infos:\n",
    "                                vpanel_grootte, vpanel_genen = vpanel_info\n",
    "                                for vpanel_gen in vpanel_genen:\n",
    "                                    if vpanel_gen not in genes:\n",
    "                                        print(genesis, vcap, vpakket, vpanel, vpanel_gen)\n",
    "    vcap = T.get_current_capture(genesis)\n",
    "    vpakket = T.get_current_pakket(genesis)\n",
    "    vpanel = T.get_current_panel(genesis)\n",
    "\n",
    "    try:\n",
    "        bed_annotated = parse_bed(os.path.join(NGST, 'captures', '{}_target.annotated'.format(vcap)))\n",
    "    except ValueError as e:\n",
    "        print('ERROR', e)\n",
    "    \n",
    "    if panel == 'None':\n",
    "        panel = None\n",
    "    \n",
    "    if panel is None and capture != pakket:\n",
    "        sangers = 'pakketten/{}_target.bed'.format(vpakket)\n",
    "        genes = T.get_genes_for_vpakket(vpakket)\n",
    "    elif panel is None and capture == pakket:\n",
    "        sangers = 'captures/{}_target.bed'.format(vpakket)\n",
    "        genes = T.get_genes_for_vpakket(vpakket)\n",
    "    elif panel is not None:\n",
    "        print(genesis, vpanel)\n",
    "        vpanel = vpanel.replace('typeA', '')\n",
    "        genes = T.get_genes_for_vpanel(vpanel)\n",
    "        sangers = 'panels/{}typeAv{}_target.bed'.format(vpanel.split('v')[0], vpanel.split('v')[1])\n",
    "\n",
    "    sangers = os.path.join(NGST, sangers)\n",
    "    bed_annotated_fn = '{}/captures/{}_target.annotated'.format(NGST, vcap)\n",
    "    if not os.path.isfile(sangers):\n",
    "        print('ERROR', sangers)\n",
    "        \n",
    "    write_sangertargets(genes, sangers, bed_annotated)   "
   ]
  },
  {
   "cell_type": "code",
   "execution_count": null,
   "metadata": {
    "collapsed": false
   },
   "outputs": [],
   "source": []
  },
  {
   "cell_type": "code",
   "execution_count": null,
   "metadata": {
    "collapsed": true
   },
   "outputs": [],
   "source": []
  },
  {
   "cell_type": "code",
   "execution_count": null,
   "metadata": {
    "collapsed": true
   },
   "outputs": [],
   "source": []
  }
 ],
 "metadata": {
  "kernelspec": {
   "display_name": "Python 3",
   "language": "python",
   "name": "python3"
  },
  "language_info": {
   "codemirror_mode": {
    "name": "ipython",
    "version": 3
   },
   "file_extension": ".py",
   "mimetype": "text/x-python",
   "name": "python",
   "nbconvert_exporter": "python",
   "pygments_lexer": "ipython3",
   "version": "3.4.3"
  }
 },
 "nbformat": 4,
 "nbformat_minor": 1
}
