{
 "cells": [
  {
   "cell_type": "code",
   "execution_count": 1,
   "metadata": {
    "collapsed": true
   },
   "outputs": [],
   "source": [
    "import sqlite3\n",
    "import json"
   ]
  },
  {
   "cell_type": "code",
   "execution_count": 2,
   "metadata": {
    "collapsed": false
   },
   "outputs": [
    {
     "data": {
      "text/plain": [
       "{'AGP': ('AGPPVM', 'AGP', None, 1, 0, 0),\n",
       " 'ALS': ('NEURO', 'ALS', 'ALS', 1, 0, 0),\n",
       " 'ARTM': ('SCD', 'SCD', None, 1, 1, 0),\n",
       " 'BLALBI': ('BH', 'ALBI', None, 1, 0, 0),\n",
       " 'BLCRD': ('BH', 'BH', 'CRD', 1, 0, 0),\n",
       " 'BLLCA': ('BH', 'BH', 'LCA', 1, 0, 0),\n",
       " 'BLOVR': ('BH', 'BH', 'OVR', 1, 0, 0),\n",
       " 'BLRP': ('BH', 'BH', 'RP', 1, 0, 0),\n",
       " 'CM': ('CM', 'CM', None, 1, 1, 0),\n",
       " 'CWS': ('COWSO', 'COW', None, 0, 0, 0),\n",
       " 'DL': ('DL', 'DL', None, 1, 1, 0),\n",
       " 'HT': ('CHC', 'HT', None, 1, 0, 0),\n",
       " 'LIMGIR': ('NEURO', 'LIMBG', 'OVR', 1, 0, 0),\n",
       " 'LMP': ('LYMPH', 'LYMPH', None, 0, 0, 0),\n",
       " 'LQT': ('SCD', 'LQT', None, 1, 1, 0),\n",
       " 'MTBL': ('MBS', 'MBS', None, 0, 0, 0),\n",
       " 'NEUROP': ('NEURO', 'CMT', 'CMT', 1, 0, 0),\n",
       " 'PCH': ('NEURO', 'PCH', 'PCH', 1, 0, 0),\n",
       " 'POLYPL': ('AGPPVM', 'PP', None, 1, 0, 0),\n",
       " 'POLYPP': ('AGPPVM', 'PP', None, 1, 0, 0),\n",
       " 'PRECON': ('PCO', 'PCO', 'BMUT', 1, 1, 0),\n",
       " 'SO': ('COWSO', 'SO', None, 0, 0, 1),\n",
       " 'VMF': ('AGPPVM', 'VM', None, 1, 0, 0)}"
      ]
     },
     "execution_count": 2,
     "metadata": {},
     "output_type": "execute_result"
    }
   ],
   "source": [
    "genesisinfo = dict()\n",
    "\n",
    "conn = sqlite3.connect('capinfo.sqlite')\n",
    "c = conn.cursor()\n",
    "c.execute('SELECT DISTINCT genesiscode, capture, pakket, panel, cnvdetectie, printcnv, mozaiekdetectie FROM capdb')\n",
    "\n",
    "for out in c.fetchall():\n",
    "    if out[0] == 'CAPTEST':\n",
    "        continue\n",
    "    capture, captureversie = out[1].split('v')    \n",
    "    pakket, pakketversie = out[2].split('v')\n",
    "    panel = out[3]\n",
    "    if panel == 'False':\n",
    "        panel = None\n",
    "        panelversie = None\n",
    "    else:\n",
    "        panel = panel.replace('typeA', '')\n",
    "        panel, panelversie = panel.split('v')\n",
    "        panelversie = int(panelversie)\n",
    "    cnvdetectie = out[4]\n",
    "    printcnv = out[5]\n",
    "    mozaiekdetectie = out[6]\n",
    "    genesisinfo[out[0]] = (capture, pakket, panel, cnvdetectie, printcnv, mozaiekdetectie)\n",
    "    \n",
    "conn.close()\n",
    "genesisinfo"
   ]
  },
  {
   "cell_type": "code",
   "execution_count": 3,
   "metadata": {
    "collapsed": false
   },
   "outputs": [
    {
     "data": {
      "text/plain": [
       "{'AGP': 'Arthrogrypose',\n",
       " 'ALS': 'Amyotrofische Laterale Sclerose',\n",
       " 'ARTM': 'Aritmie',\n",
       " 'BLALBI': 'Albinisme',\n",
       " 'BLCRD': 'ConeRod Dystrophie',\n",
       " 'BLLCA': 'Leber Congenital Amaurosis',\n",
       " 'BLOVR': 'Blindheid',\n",
       " 'BLRP': 'Retinitis Pigmentosa',\n",
       " 'CM': 'Cardiomyopathie',\n",
       " 'CWS': 'Cowden syndroom',\n",
       " 'DL': 'Dyslipidemie',\n",
       " 'HT': 'Hypothyreodie',\n",
       " 'LIMGIR': 'Limb-girdle spierdystrofie',\n",
       " 'LMP': 'Lymphoedeem',\n",
       " 'LQT': 'Lange QT-syndroom',\n",
       " 'MTBL': 'Metabole aandoeningen',\n",
       " 'NEUROP': ' Charcot Marie Tooth',\n",
       " 'PCH': 'Pontocerebellaire Hypoplasie',\n",
       " 'POLYPL': 'Polyposis indicatie lynch',\n",
       " 'POLYPP': 'Polyposis',\n",
       " 'PRECON': 'Preconceptie screening',\n",
       " 'SO': 'Segmental Overgrowth',\n",
       " 'VMF': 'Vaatmalformatie'}"
      ]
     },
     "execution_count": 3,
     "metadata": {},
     "output_type": "execute_result"
    }
   ],
   "source": [
    "aandoeningeninfo = dict()\n",
    "\n",
    "conn = sqlite3.connect('capinfo.sqlite')\n",
    "c = conn.cursor()\n",
    "c.execute('SELECT DISTINCT genesiscode, aandoening FROM capdb')\n",
    "\n",
    "for out in c.fetchall():\n",
    "    if out[0] == 'CAPTEST':\n",
    "        continue\n",
    "    genesis = out[0]\n",
    "    aandoening = out[1]\n",
    "    aandoeningeninfo[genesis] = aandoening\n",
    "    \n",
    "conn.close()\n",
    "aandoeningeninfo"
   ]
  },
  {
   "cell_type": "code",
   "execution_count": 4,
   "metadata": {
    "collapsed": false
   },
   "outputs": [
    {
     "data": {
      "text/plain": [
       "(43135,\n",
       " 111514901,\n",
       " 0,\n",
       " 76000,\n",
       " ['PIK3CA',\n",
       "  'PIK3R2',\n",
       "  'SDHD',\n",
       "  'PTEN',\n",
       "  'TCS1',\n",
       "  'AKT1',\n",
       "  'SDHB',\n",
       "  'MTOR',\n",
       "  'AKT3',\n",
       "  'TCS2'])"
      ]
     },
     "execution_count": 4,
     "metadata": {},
     "output_type": "execute_result"
    }
   ],
   "source": [
    "capinfo = dict()\n",
    "\n",
    "conn = sqlite3.connect('capinfo.sqlite')\n",
    "c = conn.cursor()\n",
    "c.execute('SELECT DISTINCT capture, OID, lot, verdund FROM capdb')\n",
    "\n",
    "for out in c.fetchall():\n",
    "    if out[0] == 'CAPv1':\n",
    "        continue\n",
    "    \n",
    "    c.execute('SELECT DISTINCT capturesize FROM genes WHERE capture=\"{}\"'.format(out[0]))\n",
    "    size = c.fetchone()\n",
    "    c.execute('SELECT genen FROM genes WHERE capture=\"{}\"'.format(out[0]))\n",
    "    genes = list()\n",
    "    for _ in c.fetchall():\n",
    "        for gene in json.loads(_[0]):\n",
    "            genes.append(gene)\n",
    "    genes = list(set(genes))\n",
    "    capinfo[out[0]] = int(out[1].replace('OID', '')), out[2], out[3], size[0], genes\n",
    "\n",
    "conn.close()\n",
    "capinfo['COWSOv1']"
   ]
  },
  {
   "cell_type": "code",
   "execution_count": 5,
   "metadata": {
    "collapsed": false
   },
   "outputs": [
    {
     "data": {
      "text/plain": [
       "(145773,\n",
       " '[\"AGA\", \"ALDH3A2\", \"ARSA\", \"ASPA\", \"ASS1\", \"BCKDHB\", \"BLM\", \"CBS\", \"CFTR\", \"CLN3\", \"CLN5\", \"COL17A1\", \"CRTAP\", \"DHCR7\", \"ELP1\", \"FANCC\", \"G6PC\", \"GAA\", \"GALC\", \"HADHA\", \"HBB\", \"HEXA\", \"HGSNAT\", \"HSD17B4\", \"IDUA\", \"IVD\", \"LAMA3\", \"LAMB3\", \"LAMC2\", \"MAN2B1\", \"MCOLN1\", \"MLC1\", \"MUSK\", \"NBN\", \"NEB\", \"NPC1\", \"PEX1\", \"PEX12\", \"PEX7\", \"PMM2\", \"POLG\", \"PPT1\", \"SACS\", \"SGSH\", \"SMN1\", \"SMPD1\", \"TMEM216\", \"TPP1\", \"TSEN54\", \"TTPA\"]')"
      ]
     },
     "execution_count": 5,
     "metadata": {},
     "output_type": "execute_result"
    }
   ],
   "source": [
    "pakketinfo = dict()\n",
    "\n",
    "conn = sqlite3.connect('capinfo.sqlite')\n",
    "c = conn.cursor()\n",
    "c.execute('SELECT DISTINCT pakket FROM capdb')\n",
    "\n",
    "for out in c.fetchall():\n",
    "    if out[0] == 'CAPv1':\n",
    "        continue\n",
    "    c.execute('SELECT DISTINCT pakketsize, genen FROM genes WHERE pakket=\"{}\"'.format(out[0]))\n",
    "    geneout = c.fetchone()\n",
    "    size = geneout[0]\n",
    "    genes = geneout[1]\n",
    "    pakketinfo[out[0]] = size, genes\n",
    "\n",
    "conn.close()\n",
    "pakketinfo['PCOv2']"
   ]
  },
  {
   "cell_type": "code",
   "execution_count": 6,
   "metadata": {
    "collapsed": false
   },
   "outputs": [
    {
     "data": {
      "text/plain": [
       "(52103,\n",
       " '[\"AIPL1\", \"CABP4\", \"CEP290\", \"CRB1\", \"CRX\", \"DTHD1\", \"GDF6\", \"GUCY2D\", \"IMPDH1\", \"IQCB1\", \"KCNJ13\", \"LCA5\", \"LRAT\", \"NMNAT1\", \"OTX2\", \"PRPH2\", \"RD3\", \"RDH12\", \"RPE65\", \"RPGRIP1\", \"SPATA7\", \"TULP1\"]')"
      ]
     },
     "execution_count": 6,
     "metadata": {},
     "output_type": "execute_result"
    }
   ],
   "source": [
    "panelinfo = dict()\n",
    "\n",
    "conn = sqlite3.connect('capinfo.sqlite')\n",
    "c = conn.cursor()\n",
    "c.execute('SELECT DISTINCT panel FROM capdb')\n",
    "\n",
    "for out in c.fetchall():\n",
    "    if out[0] == 'False':\n",
    "        continue\n",
    "    c.execute('SELECT DISTINCT panelsize, agenen FROM genes WHERE panel=\"{}\"'.format(out[0]))\n",
    "    geneout = c.fetchone()\n",
    "    size = geneout[0]\n",
    "    genes = geneout[1]\n",
    "    panelinfo[out[0]] = size, genes\n",
    "\n",
    "conn.close()\n",
    "panelinfo['LCAtypeAv1']"
   ]
  },
  {
   "cell_type": "code",
   "execution_count": 7,
   "metadata": {
    "collapsed": true
   },
   "outputs": [],
   "source": [
    "genesis = \"\"\"CREATE TABLE genesis (\n",
    "genesis TEXT NOT NULL,\n",
    "capture TEXT NOT NULL,\n",
    "pakket TEXT NOT NULL,\n",
    "panel TEXT,\n",
    "cnvscreening BOOLEAN NOT NULL DEFAULT 0,\n",
    "cnvdiagnostiek BOOLEAN NOT NULL DEFAULT 0,\n",
    "mozaiekdiagnostiek BOOLEAN NOT NULL DEFAULT 0,\n",
    "PRIMARY KEY (genesis)\n",
    ")\n",
    "\"\"\""
   ]
  },
  {
   "cell_type": "code",
   "execution_count": 8,
   "metadata": {
    "collapsed": true
   },
   "outputs": [],
   "source": [
    "aandoeningen = \"\"\"CREATE TABLE aandoeningen (\n",
    "genesis TEXT NOT NULL,\n",
    "aandoening TEXT NOT NULL,\n",
    "PRIMARY KEY (genesis)\n",
    ")\n",
    "\"\"\""
   ]
  },
  {
   "cell_type": "code",
   "execution_count": 9,
   "metadata": {
    "collapsed": true
   },
   "outputs": [],
   "source": [
    "captures = \"\"\"CREATE TABLE captures (\n",
    "capture TEXT NOT NULL,\n",
    "versie INTEGER NOT NULL,\n",
    "oid INTEGER NOT NULL,\n",
    "lot INTEGER NOT NULL,\n",
    "verdund BOOLEAN NOT NULL,\n",
    "grootte INTEGER NOT NULL,\n",
    "genen TEXT,\n",
    "PRIMARY KEY (capture, versie, lot)\n",
    ")\n",
    "\"\"\""
   ]
  },
  {
   "cell_type": "code",
   "execution_count": 10,
   "metadata": {
    "collapsed": true
   },
   "outputs": [],
   "source": [
    "pakketten = \"\"\"CREATE TABLE pakketten (\n",
    "pakket TEXT NOT NULL,\n",
    "versie INTEGER NOT NULL,\n",
    "grootte INTEGER,\n",
    "genen TEXT,\n",
    "PRIMARY KEY (pakket, versie)\n",
    ")\n",
    "\"\"\""
   ]
  },
  {
   "cell_type": "code",
   "execution_count": 11,
   "metadata": {
    "collapsed": true
   },
   "outputs": [],
   "source": [
    "panels = \"\"\"CREATE TABLE panels (\n",
    "panel TEXT NOT NULL,\n",
    "versie INTEGER NOT NULL,\n",
    "grootte INTEGER,\n",
    "genen TEXT,\n",
    "PRIMARY KEY (panel, versie)\n",
    ")\n",
    "\"\"\""
   ]
  },
  {
   "cell_type": "code",
   "execution_count": 12,
   "metadata": {
    "collapsed": false
   },
   "outputs": [],
   "source": [
    "def execute_statement(c, sql):\n",
    "    try:\n",
    "        c.execute(sql)\n",
    "    except sqlite3.OperationalError as e:\n",
    "        print(e)\n",
    "    except sqlite3.IntegrityError as e:\n",
    "        print(e)\n",
    "    else:\n",
    "        conn.commit()\n",
    "\n",
    "conn = sqlite3.connect('captures.sqlite')\n",
    "c = conn.cursor()\n",
    "\n",
    "execute_statement(c, genesis)\n",
    "execute_statement(c, aandoeningen)\n",
    "execute_statement(c, captures)\n",
    "execute_statement(c, pakketten)\n",
    "execute_statement(c, panels)\n",
    "conn.close()"
   ]
  },
  {
   "cell_type": "code",
   "execution_count": 13,
   "metadata": {
    "collapsed": false
   },
   "outputs": [],
   "source": [
    "conn = sqlite3.connect('captures.sqlite')\n",
    "c = conn.cursor()\n",
    "\n",
    "for k,v in genesisinfo.items():\n",
    "    genesis = k\n",
    "    capture = v[0]\n",
    "    pakket = v[1]\n",
    "    panel = v[2]\n",
    "    cnvscreen = v[3]\n",
    "    cnvdiag = v[4]\n",
    "    mozaiek = v[5]\n",
    "    \n",
    "    sql = \"INSERT INTO genesis VALUES ('{}', '{}', '{}', '{}', {}, {}, {})\".format(genesis, capture, pakket, panel,\n",
    "                                                                       cnvscreen, cnvdiag, mozaiek)\n",
    "    execute_statement(c, sql)\n",
    "    \n",
    "conn.close()"
   ]
  },
  {
   "cell_type": "code",
   "execution_count": 14,
   "metadata": {
    "collapsed": false
   },
   "outputs": [],
   "source": [
    "conn = sqlite3.connect('captures.sqlite')\n",
    "c = conn.cursor()\n",
    "\n",
    "for genesis, aandoening in aandoeningeninfo.items():\n",
    "    sql = \"INSERT INTO aandoeningen VALUES ('{}', '{}')\".format(genesis, aandoening)\n",
    "    execute_statement(c, sql)\n",
    "    \n",
    "conn.close()"
   ]
  },
  {
   "cell_type": "code",
   "execution_count": 15,
   "metadata": {
    "collapsed": false
   },
   "outputs": [],
   "source": [
    "conn = sqlite3.connect('captures.sqlite')\n",
    "c = conn.cursor()\n",
    "\n",
    "for k,v in capinfo.items():\n",
    "    capture, versie = k.split('v')\n",
    "    oid = v[0]\n",
    "    lot = v[1]\n",
    "    verdund = v[2]\n",
    "    grootte = v[3]\n",
    "    genen = v[4]\n",
    "    sql = \"INSERT INTO captures VALUES ('{}', {}, {}, {}, {}, {}, '{}')\".format(capture, versie, oid, lot, \n",
    "                                                                                verdund, grootte, json.dumps(genen))\n",
    "    execute_statement(c, sql)\n",
    "    \n",
    "conn.close()"
   ]
  },
  {
   "cell_type": "code",
   "execution_count": 16,
   "metadata": {
    "collapsed": false
   },
   "outputs": [],
   "source": [
    "conn = sqlite3.connect('captures.sqlite')\n",
    "c = conn.cursor()\n",
    "\n",
    "for k,v in pakketinfo.items():\n",
    "    pakket, versie = k.split('v')\n",
    "    grootte = v[0]\n",
    "    genen = v[1]\n",
    "    sql = \"INSERT INTO pakketten VALUES ('{}', {}, {}, '{}')\".format(pakket, versie, grootte, genen)\n",
    "    execute_statement(c, sql)\n",
    "    \n",
    "conn.close()"
   ]
  },
  {
   "cell_type": "code",
   "execution_count": 17,
   "metadata": {
    "collapsed": false
   },
   "outputs": [],
   "source": [
    "conn = sqlite3.connect('captures.sqlite')\n",
    "c = conn.cursor()\n",
    "\n",
    "for k,v in panelinfo.items():\n",
    "    panel, versie = k.split('v')\n",
    "    panel = panel.replace('typeA', '')\n",
    "    grootte = v[0]\n",
    "    genen = v[1]\n",
    "    sql = \"INSERT INTO panels VALUES ('{}', {}, {}, '{}')\".format(panel, versie, grootte, genen)\n",
    "    execute_statement(c, sql)\n",
    "    \n",
    "conn.close()"
   ]
  },
  {
   "cell_type": "code",
   "execution_count": null,
   "metadata": {
    "collapsed": false
   },
   "outputs": [],
   "source": []
  },
  {
   "cell_type": "code",
   "execution_count": null,
   "metadata": {
    "collapsed": true
   },
   "outputs": [],
   "source": []
  },
  {
   "cell_type": "code",
   "execution_count": null,
   "metadata": {
    "collapsed": true
   },
   "outputs": [],
   "source": []
  },
  {
   "cell_type": "code",
   "execution_count": null,
   "metadata": {
    "collapsed": true
   },
   "outputs": [],
   "source": []
  },
  {
   "cell_type": "code",
   "execution_count": null,
   "metadata": {
    "collapsed": true
   },
   "outputs": [],
   "source": []
  },
  {
   "cell_type": "code",
   "execution_count": null,
   "metadata": {
    "collapsed": true
   },
   "outputs": [],
   "source": []
  }
 ],
 "metadata": {
  "kernelspec": {
   "display_name": "Python 3",
   "language": "python",
   "name": "python3"
  },
  "language_info": {
   "codemirror_mode": {
    "name": "ipython",
    "version": 3
   },
   "file_extension": ".py",
   "mimetype": "text/x-python",
   "name": "python",
   "nbconvert_exporter": "python",
   "pygments_lexer": "ipython3",
   "version": "3.4.3"
  }
 },
 "nbformat": 4,
 "nbformat_minor": 1
}
