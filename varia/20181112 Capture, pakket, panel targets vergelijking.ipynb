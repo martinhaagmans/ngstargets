{
 "cells": [
  {
   "cell_type": "code",
   "execution_count": 1,
   "metadata": {},
   "outputs": [],
   "source": [
    "import sqlite3\n",
    "import os\n",
    "import pybedtools\n",
    "from ngsscriptlibrary import TargetDatabase"
   ]
  },
  {
   "cell_type": "code",
   "execution_count": 2,
   "metadata": {},
   "outputs": [],
   "source": [
    "def get_file_locations(todo, targetrepo):\n",
    "    \"\"\"Read dict with targets and analyses and add correct file locations.\n",
    "    Return dict\n",
    "    \"\"\"\n",
    "    for s in todo.keys():\n",
    "        picard = '{}_target.interval_list'.format(todo[s]['capture'])\n",
    "        picard = os.path.join(targetrepo, 'captures', picard)\n",
    "\n",
    "        cnvtarget = '{}_target.bed'.format(todo[s]['capture'])\n",
    "        cnvtarget = os.path.join(targetrepo, 'captures', cnvtarget)\n",
    "\n",
    "        annot = '{}_target.annotated'.format(todo[s]['capture'])\n",
    "        annot = os.path.join(targetrepo, 'captures', annot)\n",
    "\n",
    "        cap_is_pakket = todo[s]['capispakket']\n",
    "\n",
    "        if cap_is_pakket:\n",
    "            varcal = '{}_generegions.bed'.format(todo[s]['capture'])\n",
    "            varcal = os.path.join(targetrepo, 'captures', varcal)\n",
    "            sanger = '{}_target.bed'.format(todo[s]['capture'])\n",
    "            sanger = os.path.join(targetrepo, 'captures', sanger)\n",
    "            pakket = '{}_target.bed'.format(todo[s]['capture'])\n",
    "            pakket = os.path.join(targetrepo, 'captures', pakket)\n",
    "        elif not cap_is_pakket:\n",
    "            varcal = '{}_generegions.bed'.format(todo[s]['pakket'])\n",
    "            varcal = os.path.join(targetrepo, 'pakketten', varcal)\n",
    "            sanger = '{}_target.bed'.format(todo[s]['pakket'])\n",
    "            sanger = os.path.join(targetrepo, 'pakketten', sanger)\n",
    "            pakket = '{}_target.bed'.format(todo[s]['pakket'])\n",
    "            pakket = os.path.join(targetrepo, 'pakketten', pakket)\n",
    "\n",
    "        if todo[s]['panel'] is not None:\n",
    "            sanger = '{}_target.bed'.format(todo[s]['panel'])\n",
    "            sanger = os.path.join(targetrepo, 'panels', sanger)\n",
    "\n",
    "        todo[s]['annot'] = annot\n",
    "        todo[s]['picard'] = picard\n",
    "        todo[s]['cnvtarget'] = cnvtarget\n",
    "        todo[s]['pakkettarget'] = pakket\n",
    "        todo[s]['varcal'] = varcal\n",
    "        todo[s]['sanger'] = sanger\n",
    "\n",
    "    return todo"
   ]
  },
  {
   "cell_type": "code",
   "execution_count": 3,
   "metadata": {},
   "outputs": [],
   "source": [
    "db = 'captures.sqlite'\n",
    "conn = sqlite3.connect(db)\n",
    "c = conn.cursor()\n",
    "c.execute('SELECT genesis FROM genesis')\n",
    "genesis = [val for tup in c.fetchall() for val in tup]\n",
    "conn.close()"
   ]
  },
  {
   "cell_type": "code",
   "execution_count": 4,
   "metadata": {},
   "outputs": [],
   "source": [
    "T = TargetDatabase(db)\n",
    "\n",
    "todo = dict()\n",
    "\n",
    "for g in genesis:\n",
    "    _todo = T.get_todo(g)\n",
    "    todo[g] = _todo\n",
    "\n",
    "todo = get_file_locations(todo, '../../ngstargets/')\n"
   ]
  },
  {
   "cell_type": "code",
   "execution_count": 7,
   "metadata": {
    "scrolled": false
   },
   "outputs": [
    {
     "name": "stdout",
     "output_type": "stream",
     "text": [
      "BMUTtypeAv1 \n",
      " chr11\t5248049\t5248050\n",
      "chr11\t5248329\t5248330\n",
      "chr11\t5248387\t5248389\n",
      "chr7\t117251608\t117251609\n",
      "\n",
      "ALBItypeAv3 \n",
      " \n",
      "CRDtypeAv3 \n",
      " \n",
      "CSNBtypeAv1 \n",
      " \n",
      "DOAtypeAv1 \n",
      " \n",
      "GLAUtypeAv1 \n",
      " \n",
      "LCAtypeAv2 \n",
      " \n",
      "RPtypeAv4 \n",
      " \n",
      "BMUTtypeAv1 \n",
      " chr11\t5248049\t5248050\n",
      "chr11\t5248329\t5248330\n",
      "chr11\t5248387\t5248389\n",
      "chr7\t117251608\t117251609\n",
      "\n",
      "CMTtypeAv4 \n",
      " \n",
      "BMUTtypeAv1 \n",
      " chr11\t5248049\t5248050\n",
      "chr11\t5248329\t5248330\n",
      "chr11\t5248387\t5248389\n",
      "chr7\t117251608\t117251609\n",
      "\n"
     ]
    }
   ],
   "source": [
    "for g in genesis:\n",
    "    if not todo[g]['panel']:\n",
    "        pass\n",
    "\n",
    "    elif todo[g]['panel']:    \n",
    "        panelname = todo[g]['panel']\n",
    "        if panelname in ['OVRtypeAv1', 'ALStypeAv2', 'PCHtypeAv2'] :\n",
    "            continue\n",
    "        pakket = pybedtools.BedTool(todo[g]['cnvtarget'])\n",
    "        panel = pybedtools.BedTool(todo[g]['sanger'])\n",
    "        print(todo[g]['panel'], '\\n', \n",
    "              panel.intersect(pakket, v=True))\n",
    "        \n",
    "    \n",
    "        \n",
    "        \n",
    "        \n",
    "    "
   ]
  },
  {
   "cell_type": "code",
   "execution_count": 12,
   "metadata": {},
   "outputs": [
    {
     "name": "stdout",
     "output_type": "stream",
     "text": [
      "\n"
     ]
    }
   ],
   "source": [
    "target = pybedtools.BedTool('../pakketten/COWv3_target.bed')\n",
    "genes = pybedtools.BedTool('../pakketten/COWv3_generegions.bed')\n",
    "print(target.intersect(genes, v=True))\n",
    "        \n",
    "    \n",
    "        \n",
    "        \n",
    "        \n",
    "    "
   ]
  },
  {
   "cell_type": "code",
   "execution_count": null,
   "metadata": {},
   "outputs": [],
   "source": []
  },
  {
   "cell_type": "code",
   "execution_count": null,
   "metadata": {},
   "outputs": [],
   "source": []
  },
  {
   "cell_type": "code",
   "execution_count": null,
   "metadata": {},
   "outputs": [],
   "source": []
  }
 ],
 "metadata": {
  "kernelspec": {
   "display_name": "Python 3",
   "language": "python",
   "name": "python3"
  },
  "language_info": {
   "codemirror_mode": {
    "name": "ipython",
    "version": 3
   },
   "file_extension": ".py",
   "mimetype": "text/x-python",
   "name": "python",
   "nbconvert_exporter": "python",
   "pygments_lexer": "ipython3",
   "version": "3.6.7"
  }
 },
 "nbformat": 4,
 "nbformat_minor": 2
}
