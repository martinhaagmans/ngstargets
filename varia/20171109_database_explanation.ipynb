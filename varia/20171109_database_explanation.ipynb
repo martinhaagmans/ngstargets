{
 "cells": [
  {
   "cell_type": "code",
   "execution_count": 1,
   "metadata": {
    "collapsed": true
   },
   "outputs": [],
   "source": [
    "import sqlite3"
   ]
  },
  {
   "cell_type": "markdown",
   "metadata": {},
   "source": [
    "# Inleiding\n",
    "\n",
    "Elke diagnostische NGS-test wordt beschreven door een unieke genesiscode. Deze code bepaalt welke analyses gerund moeten worden, welke capture gebruikt wordt en welke pakket- en eventueel panelfilters toegepast worden. Om deze filters juist te kunnen toepassen heeft de pipeline informatie nodig en deze wordt aangeboden in de vorm van gennamen en BED-files. \n",
    "\n",
    "Elke capture, pakket en panel heeft zijn eigen versienummer met daaraan gekoppeld een BED-file en een lijst met gennamen.\n",
    "\n",
    "# Methode\n",
    "\n",
    "Er zijn een aantal tabellen die de informatie bevatten die nodig is om de pipeline correct te runnen voor een specifieke genesiscode. \n",
    "\n",
    "## Tabel genesis\n",
    "Koppeling tussen genesiscode en capture, pakket, panel en wel of niet runnen van CNV of mozaiek gedeeltes van de pipeline."
   ]
  },
  {
   "cell_type": "code",
   "execution_count": 3,
   "metadata": {
    "collapsed": false
   },
   "outputs": [
    {
     "data": {
      "text/plain": [
       "[('AGP', 'AGPPVM', 'AGP', 'None', 1, 0, 0),\n",
       " ('ALS', 'NEURO', 'ALS', 'ALS', 1, 0, 0),\n",
       " ('ARTM', 'SCD', 'SCD', 'None', 1, 1, 0),\n",
       " ('BLALBI', 'BH', 'ALBI', 'None', 1, 0, 0),\n",
       " ('BLCRD', 'BH', 'BH', 'CRD', 1, 0, 0),\n",
       " ('BLLCA', 'BH', 'BH', 'LCA', 1, 0, 0),\n",
       " ('BLOVR', 'BH', 'BH', 'OVR', 1, 0, 0),\n",
       " ('BLRP', 'BH', 'BH', 'RP', 1, 0, 0),\n",
       " ('CM', 'CM', 'CM', 'None', 1, 1, 0),\n",
       " ('CWS', 'COWSO', 'COW', 'None', 0, 0, 0),\n",
       " ('DL', 'DL', 'DL', 'None', 1, 1, 0),\n",
       " ('HT', 'CHC', 'HT', 'None', 1, 0, 0),\n",
       " ('LIMGIR', 'NEURO', 'LIMBG', 'OVR', 1, 0, 0),\n",
       " ('LMP', 'LYMPH', 'LYMPH', 'None', 0, 0, 0),\n",
       " ('LQT', 'SCD', 'LQT', 'None', 1, 1, 0),\n",
       " ('MTBL', 'MBS', 'MBS', 'None', 0, 0, 0),\n",
       " ('NEUROP', 'NEURO', 'CMT', 'CMT', 1, 0, 0),\n",
       " ('PCH', 'NEURO', 'PCH', 'PCH', 1, 0, 0),\n",
       " ('POLYPL', 'AGPPVM', 'PP', 'None', 1, 0, 0),\n",
       " ('POLYPP', 'AGPPVM', 'PP', 'None', 1, 0, 0),\n",
       " ('PRECON', 'PCO', 'PCO', 'BMUT', 1, 1, 0),\n",
       " ('SO', 'COWSO', 'SO', 'None', 0, 0, 1),\n",
       " ('VMF', 'AGPPVM', 'VM', 'None', 1, 0, 0)]"
      ]
     },
     "execution_count": 3,
     "metadata": {},
     "output_type": "execute_result"
    }
   ],
   "source": [
    "sqlite3.connect('captures.sqlite').cursor().execute('SELECT * FROM genesis').fetchall()"
   ]
  },
  {
   "cell_type": "code",
   "execution_count": null,
   "metadata": {
    "collapsed": true
   },
   "outputs": [],
   "source": [
    "### Tabel aandoeningen\n",
    "Koppeling tussen genesiscode en aandoening.\n",
    "\n",
    "## Tabel captures\n",
    "\n",
    "\n",
    "## Tabel pakketten\n",
    "\n",
    "## Tabel panels"
   ]
  },
  {
   "cell_type": "code",
   "execution_count": null,
   "metadata": {
    "collapsed": true
   },
   "outputs": [],
   "source": []
  }
 ],
 "metadata": {
  "kernelspec": {
   "display_name": "Python 3",
   "language": "python",
   "name": "python3"
  },
  "language_info": {
   "codemirror_mode": {
    "name": "ipython",
    "version": 3
   },
   "file_extension": ".py",
   "mimetype": "text/x-python",
   "name": "python",
   "nbconvert_exporter": "python",
   "pygments_lexer": "ipython3",
   "version": "3.4.3"
  }
 },
 "nbformat": 4,
 "nbformat_minor": 1
}
