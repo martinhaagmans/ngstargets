{
 "cells": [
  {
   "cell_type": "code",
   "execution_count": 3,
   "metadata": {
    "collapsed": true
   },
   "outputs": [],
   "source": [
    "import sqlite3\n",
    "import pandas as pd"
   ]
  },
  {
   "cell_type": "markdown",
   "metadata": {},
   "source": [
    "# Inleiding\n",
    "\n",
    "Elke diagnostische NGS-test wordt beschreven door een unieke genesiscode. Deze code bepaalt welke analyses gerund moeten worden, welke capture gebruikt wordt en welke pakket- en eventueel panelfilters toegepast worden. Om deze filters juist te kunnen toepassen heeft de pipeline informatie nodig en deze wordt aangeboden in de vorm van gennamen en BED-files. \n",
    "\n",
    "Elke capture, pakket en panel heeft zijn eigen versienummer met daaraan gekoppeld een BED-file en een lijst met gennamen.\n",
    "\n",
    "# Methode\n",
    "\n",
    "Er zijn een aantal tabellen die de informatie bevatten die nodig is om de pipeline correct te runnen voor een specifieke genesiscode. Welke genesiscode voor welk sample gerund moet worden staat in de samplesheet die ook gebruikt wordt om de MiSeq te runnen. Voor deze genesiscode wordt uit onderstaande tabellen een capture, pakket en panel gehaald. \n",
    "\n"
   ]
  },
  {
   "cell_type": "markdown",
   "metadata": {},
   "source": [
    "## Tabel genesis\n",
    "Koppeling tussen genesiscode en capture, pakket, panel en wel of niet runnen van CNV of mozaiek gedeeltes van de pipeline."
   ]
  },
  {
   "cell_type": "code",
   "execution_count": 13,
   "metadata": {
    "collapsed": false
   },
   "outputs": [
    {
     "data": {
      "text/html": [
       "<div>\n",
       "<style>\n",
       "    .dataframe thead tr:only-child th {\n",
       "        text-align: right;\n",
       "    }\n",
       "\n",
       "    .dataframe thead th {\n",
       "        text-align: left;\n",
       "    }\n",
       "\n",
       "    .dataframe tbody tr th {\n",
       "        vertical-align: top;\n",
       "    }\n",
       "</style>\n",
       "<table border=\"1\" class=\"dataframe\">\n",
       "  <thead>\n",
       "    <tr style=\"text-align: right;\">\n",
       "      <th></th>\n",
       "      <th>genesis</th>\n",
       "      <th>capture</th>\n",
       "      <th>pakket</th>\n",
       "      <th>panel</th>\n",
       "      <th>cnvscreening</th>\n",
       "      <th>cnvdiagnostiek</th>\n",
       "      <th>mozaiekdiagnostiek</th>\n",
       "    </tr>\n",
       "  </thead>\n",
       "  <tbody>\n",
       "    <tr>\n",
       "      <th>0</th>\n",
       "      <td>AGP</td>\n",
       "      <td>AGPPVM</td>\n",
       "      <td>AGP</td>\n",
       "      <td>None</td>\n",
       "      <td>1</td>\n",
       "      <td>0</td>\n",
       "      <td>0</td>\n",
       "    </tr>\n",
       "    <tr>\n",
       "      <th>1</th>\n",
       "      <td>ALS</td>\n",
       "      <td>NEURO</td>\n",
       "      <td>ALS</td>\n",
       "      <td>ALS</td>\n",
       "      <td>1</td>\n",
       "      <td>0</td>\n",
       "      <td>0</td>\n",
       "    </tr>\n",
       "    <tr>\n",
       "      <th>2</th>\n",
       "      <td>ARTM</td>\n",
       "      <td>SCD</td>\n",
       "      <td>SCD</td>\n",
       "      <td>None</td>\n",
       "      <td>1</td>\n",
       "      <td>1</td>\n",
       "      <td>0</td>\n",
       "    </tr>\n",
       "    <tr>\n",
       "      <th>3</th>\n",
       "      <td>BLALBI</td>\n",
       "      <td>BH</td>\n",
       "      <td>ALBI</td>\n",
       "      <td>None</td>\n",
       "      <td>1</td>\n",
       "      <td>0</td>\n",
       "      <td>0</td>\n",
       "    </tr>\n",
       "    <tr>\n",
       "      <th>4</th>\n",
       "      <td>BLCRD</td>\n",
       "      <td>BH</td>\n",
       "      <td>BH</td>\n",
       "      <td>CRD</td>\n",
       "      <td>1</td>\n",
       "      <td>0</td>\n",
       "      <td>0</td>\n",
       "    </tr>\n",
       "  </tbody>\n",
       "</table>\n",
       "</div>"
      ],
      "text/plain": [
       "  genesis capture pakket panel  cnvscreening  cnvdiagnostiek  \\\n",
       "0     AGP  AGPPVM    AGP  None             1               0   \n",
       "1     ALS   NEURO    ALS   ALS             1               0   \n",
       "2    ARTM     SCD    SCD  None             1               1   \n",
       "3  BLALBI      BH   ALBI  None             1               0   \n",
       "4   BLCRD      BH     BH   CRD             1               0   \n",
       "\n",
       "   mozaiekdiagnostiek  \n",
       "0                   0  \n",
       "1                   0  \n",
       "2                   0  \n",
       "3                   0  \n",
       "4                   0  "
      ]
     },
     "execution_count": 13,
     "metadata": {},
     "output_type": "execute_result"
    }
   ],
   "source": [
    "pd.read_sql('SELECT * FROM genesis', sqlite3.connect('captures.sqlite')).head()"
   ]
  },
  {
   "cell_type": "markdown",
   "metadata": {
    "collapsed": true
   },
   "source": [
    "## Tabel aandoeningen\n",
    "Koppeling tussen genesiscode en aandoening.\n"
   ]
  },
  {
   "cell_type": "code",
   "execution_count": 14,
   "metadata": {
    "collapsed": false
   },
   "outputs": [
    {
     "data": {
      "text/html": [
       "<div>\n",
       "<style>\n",
       "    .dataframe thead tr:only-child th {\n",
       "        text-align: right;\n",
       "    }\n",
       "\n",
       "    .dataframe thead th {\n",
       "        text-align: left;\n",
       "    }\n",
       "\n",
       "    .dataframe tbody tr th {\n",
       "        vertical-align: top;\n",
       "    }\n",
       "</style>\n",
       "<table border=\"1\" class=\"dataframe\">\n",
       "  <thead>\n",
       "    <tr style=\"text-align: right;\">\n",
       "      <th></th>\n",
       "      <th>genesis</th>\n",
       "      <th>aandoening</th>\n",
       "    </tr>\n",
       "  </thead>\n",
       "  <tbody>\n",
       "    <tr>\n",
       "      <th>0</th>\n",
       "      <td>AGP</td>\n",
       "      <td>Arthrogrypose</td>\n",
       "    </tr>\n",
       "    <tr>\n",
       "      <th>1</th>\n",
       "      <td>ALS</td>\n",
       "      <td>Amyotrofische Laterale Sclerose</td>\n",
       "    </tr>\n",
       "    <tr>\n",
       "      <th>2</th>\n",
       "      <td>ARTM</td>\n",
       "      <td>Aritmie</td>\n",
       "    </tr>\n",
       "    <tr>\n",
       "      <th>3</th>\n",
       "      <td>BLALBI</td>\n",
       "      <td>Albinisme</td>\n",
       "    </tr>\n",
       "    <tr>\n",
       "      <th>4</th>\n",
       "      <td>BLCRD</td>\n",
       "      <td>ConeRod Dystrophie</td>\n",
       "    </tr>\n",
       "  </tbody>\n",
       "</table>\n",
       "</div>"
      ],
      "text/plain": [
       "  genesis                       aandoening\n",
       "0     AGP                    Arthrogrypose\n",
       "1     ALS  Amyotrofische Laterale Sclerose\n",
       "2    ARTM                          Aritmie\n",
       "3  BLALBI                        Albinisme\n",
       "4   BLCRD               ConeRod Dystrophie"
      ]
     },
     "execution_count": 14,
     "metadata": {},
     "output_type": "execute_result"
    }
   ],
   "source": [
    "pd.read_sql('SELECT * FROM aandoeningen', sqlite3.connect('captures.sqlite')).head()"
   ]
  },
  {
   "cell_type": "markdown",
   "metadata": {},
   "source": [
    "## Tabel captures\n",
    "\n",
    "Hierin staan alle captures met versienummer met daaraan gekoppeld een OID, een of meerdere LOT-nummers en de genen op de capture. Ook de grootte van de capture is hier te vinden en deze wordt gebruikt om de verhoudingen tussen verschillende captures te bepalen als deze samen gesequenced worden."
   ]
  },
  {
   "cell_type": "code",
   "execution_count": 15,
   "metadata": {
    "collapsed": false
   },
   "outputs": [
    {
     "data": {
      "text/html": [
       "<div>\n",
       "<style>\n",
       "    .dataframe thead tr:only-child th {\n",
       "        text-align: right;\n",
       "    }\n",
       "\n",
       "    .dataframe thead th {\n",
       "        text-align: left;\n",
       "    }\n",
       "\n",
       "    .dataframe tbody tr th {\n",
       "        vertical-align: top;\n",
       "    }\n",
       "</style>\n",
       "<table border=\"1\" class=\"dataframe\">\n",
       "  <thead>\n",
       "    <tr style=\"text-align: right;\">\n",
       "      <th></th>\n",
       "      <th>capture</th>\n",
       "      <th>versie</th>\n",
       "      <th>oid</th>\n",
       "      <th>lot</th>\n",
       "      <th>verdund</th>\n",
       "      <th>grootte</th>\n",
       "      <th>genen</th>\n",
       "    </tr>\n",
       "  </thead>\n",
       "  <tbody>\n",
       "    <tr>\n",
       "      <th>0</th>\n",
       "      <td>AGPPVM</td>\n",
       "      <td>1</td>\n",
       "      <td>44292</td>\n",
       "      <td>40821</td>\n",
       "      <td>0</td>\n",
       "      <td>307000</td>\n",
       "      <td>[\"POLD1\", \"BMPR2\", \"ECEL1\", \"MLH1\", \"MYH8\", \"A...</td>\n",
       "    </tr>\n",
       "    <tr>\n",
       "      <th>1</th>\n",
       "      <td>BH</td>\n",
       "      <td>3</td>\n",
       "      <td>43443</td>\n",
       "      <td>6167501</td>\n",
       "      <td>0</td>\n",
       "      <td>1267000</td>\n",
       "      <td>[\"CSPP1\", \"TEAD1\", \"CRX\", \"RIMS1\", \"MITF\", \"ML...</td>\n",
       "    </tr>\n",
       "    <tr>\n",
       "      <th>2</th>\n",
       "      <td>CHC</td>\n",
       "      <td>1</td>\n",
       "      <td>43442</td>\n",
       "      <td>31614501</td>\n",
       "      <td>1</td>\n",
       "      <td>154000</td>\n",
       "      <td>[\"LHX3\", \"PROP1\", \"SLC5A5\", \"TRH\", \"HOXA3\", \"T...</td>\n",
       "    </tr>\n",
       "    <tr>\n",
       "      <th>3</th>\n",
       "      <td>CM</td>\n",
       "      <td>15</td>\n",
       "      <td>44549</td>\n",
       "      <td>47469</td>\n",
       "      <td>0</td>\n",
       "      <td>508000</td>\n",
       "      <td>[\"RBM20\", \"ACTC1\", \"PRKAG2\", \"DSC2\", \"PLN\", \"P...</td>\n",
       "    </tr>\n",
       "    <tr>\n",
       "      <th>4</th>\n",
       "      <td>COWSO</td>\n",
       "      <td>1</td>\n",
       "      <td>43135</td>\n",
       "      <td>111514901</td>\n",
       "      <td>0</td>\n",
       "      <td>76000</td>\n",
       "      <td>[\"SDHD\", \"PIK3R2\", \"PTEN\", \"PIK3CA\", \"MTOR\", \"...</td>\n",
       "    </tr>\n",
       "  </tbody>\n",
       "</table>\n",
       "</div>"
      ],
      "text/plain": [
       "  capture  versie    oid        lot  verdund  grootte  \\\n",
       "0  AGPPVM       1  44292      40821        0   307000   \n",
       "1      BH       3  43443    6167501        0  1267000   \n",
       "2     CHC       1  43442   31614501        1   154000   \n",
       "3      CM      15  44549      47469        0   508000   \n",
       "4   COWSO       1  43135  111514901        0    76000   \n",
       "\n",
       "                                               genen  \n",
       "0  [\"POLD1\", \"BMPR2\", \"ECEL1\", \"MLH1\", \"MYH8\", \"A...  \n",
       "1  [\"CSPP1\", \"TEAD1\", \"CRX\", \"RIMS1\", \"MITF\", \"ML...  \n",
       "2  [\"LHX3\", \"PROP1\", \"SLC5A5\", \"TRH\", \"HOXA3\", \"T...  \n",
       "3  [\"RBM20\", \"ACTC1\", \"PRKAG2\", \"DSC2\", \"PLN\", \"P...  \n",
       "4  [\"SDHD\", \"PIK3R2\", \"PTEN\", \"PIK3CA\", \"MTOR\", \"...  "
      ]
     },
     "execution_count": 15,
     "metadata": {},
     "output_type": "execute_result"
    }
   ],
   "source": [
    "pd.read_sql('SELECT * FROM captures', sqlite3.connect('captures.sqlite')).head()"
   ]
  },
  {
   "cell_type": "markdown",
   "metadata": {},
   "source": [
    "## Tabel pakketten\n",
    "\n",
    "Hierin staan alle pakketten met versienummer met daaraan gekoppeld de genen in het pakket en de grootte van het pakket. "
   ]
  },
  {
   "cell_type": "code",
   "execution_count": 16,
   "metadata": {
    "collapsed": false
   },
   "outputs": [
    {
     "data": {
      "text/html": [
       "<div>\n",
       "<style>\n",
       "    .dataframe thead tr:only-child th {\n",
       "        text-align: right;\n",
       "    }\n",
       "\n",
       "    .dataframe thead th {\n",
       "        text-align: left;\n",
       "    }\n",
       "\n",
       "    .dataframe tbody tr th {\n",
       "        vertical-align: top;\n",
       "    }\n",
       "</style>\n",
       "<table border=\"1\" class=\"dataframe\">\n",
       "  <thead>\n",
       "    <tr style=\"text-align: right;\">\n",
       "      <th></th>\n",
       "      <th>pakket</th>\n",
       "      <th>versie</th>\n",
       "      <th>grootte</th>\n",
       "      <th>genen</th>\n",
       "    </tr>\n",
       "  </thead>\n",
       "  <tbody>\n",
       "    <tr>\n",
       "      <th>0</th>\n",
       "      <td>AGP</td>\n",
       "      <td>5</td>\n",
       "      <td>36971</td>\n",
       "      <td>[\"ECEL1\", \"MYBPC1\", \"MYH3\", \"MYH8\", \"PIEZO2\", ...</td>\n",
       "    </tr>\n",
       "    <tr>\n",
       "      <th>1</th>\n",
       "      <td>VM</td>\n",
       "      <td>4</td>\n",
       "      <td>57106</td>\n",
       "      <td>[\"ACVRL1\", \"ANTXR1\", \"BMPR2\", \"CAV1\", \"CCM2\", ...</td>\n",
       "    </tr>\n",
       "    <tr>\n",
       "      <th>2</th>\n",
       "      <td>PP</td>\n",
       "      <td>4</td>\n",
       "      <td>71895</td>\n",
       "      <td>[\"ACVRL1\", \"APC\", \"AXIN2\", \"BMPR1A\", \"ENG\", \"E...</td>\n",
       "    </tr>\n",
       "    <tr>\n",
       "      <th>3</th>\n",
       "      <td>BH</td>\n",
       "      <td>3</td>\n",
       "      <td>826173</td>\n",
       "      <td>[\"ABCA4\", \"ABCB6\", \"ABCC6\", \"ABHD12\", \"ACO2\", ...</td>\n",
       "    </tr>\n",
       "    <tr>\n",
       "      <th>4</th>\n",
       "      <td>ALBI</td>\n",
       "      <td>1</td>\n",
       "      <td>64575</td>\n",
       "      <td>[\"AP3B1\", \"BLOC1S3\", \"BLOC1S6\", \"C10orf11\", \"D...</td>\n",
       "    </tr>\n",
       "  </tbody>\n",
       "</table>\n",
       "</div>"
      ],
      "text/plain": [
       "  pakket  versie  grootte                                              genen\n",
       "0    AGP       5    36971  [\"ECEL1\", \"MYBPC1\", \"MYH3\", \"MYH8\", \"PIEZO2\", ...\n",
       "1     VM       4    57106  [\"ACVRL1\", \"ANTXR1\", \"BMPR2\", \"CAV1\", \"CCM2\", ...\n",
       "2     PP       4    71895  [\"ACVRL1\", \"APC\", \"AXIN2\", \"BMPR1A\", \"ENG\", \"E...\n",
       "3     BH       3   826173  [\"ABCA4\", \"ABCB6\", \"ABCC6\", \"ABHD12\", \"ACO2\", ...\n",
       "4   ALBI       1    64575  [\"AP3B1\", \"BLOC1S3\", \"BLOC1S6\", \"C10orf11\", \"D..."
      ]
     },
     "execution_count": 16,
     "metadata": {},
     "output_type": "execute_result"
    }
   ],
   "source": [
    "pd.read_sql('SELECT * FROM pakketten', sqlite3.connect('captures.sqlite')).head()"
   ]
  },
  {
   "cell_type": "markdown",
   "metadata": {},
   "source": [
    "## Tabel panels\n",
    "\n",
    "Hierin staan alle panels met versienummer met daaraan gekoppeld de genen in het panel en de grootte van het panel."
   ]
  },
  {
   "cell_type": "code",
   "execution_count": 17,
   "metadata": {
    "collapsed": false
   },
   "outputs": [
    {
     "data": {
      "text/html": [
       "<div>\n",
       "<style>\n",
       "    .dataframe thead tr:only-child th {\n",
       "        text-align: right;\n",
       "    }\n",
       "\n",
       "    .dataframe thead th {\n",
       "        text-align: left;\n",
       "    }\n",
       "\n",
       "    .dataframe tbody tr th {\n",
       "        vertical-align: top;\n",
       "    }\n",
       "</style>\n",
       "<table border=\"1\" class=\"dataframe\">\n",
       "  <thead>\n",
       "    <tr style=\"text-align: right;\">\n",
       "      <th></th>\n",
       "      <th>panel</th>\n",
       "      <th>versie</th>\n",
       "      <th>grootte</th>\n",
       "      <th>genen</th>\n",
       "    </tr>\n",
       "  </thead>\n",
       "  <tbody>\n",
       "    <tr>\n",
       "      <th>0</th>\n",
       "      <td>LCA</td>\n",
       "      <td>1</td>\n",
       "      <td>52103</td>\n",
       "      <td>[\"AIPL1\", \"CABP4\", \"CEP290\", \"CRB1\", \"CRX\", \"D...</td>\n",
       "    </tr>\n",
       "    <tr>\n",
       "      <th>1</th>\n",
       "      <td>OVR</td>\n",
       "      <td>1</td>\n",
       "      <td>0</td>\n",
       "      <td>[]</td>\n",
       "    </tr>\n",
       "    <tr>\n",
       "      <th>2</th>\n",
       "      <td>RP</td>\n",
       "      <td>2</td>\n",
       "      <td>231550</td>\n",
       "      <td>[\"ABCA4\", \"ADGRA3\", \"ARL2BP\", \"ARL6\", \"BBS1\", ...</td>\n",
       "    </tr>\n",
       "    <tr>\n",
       "      <th>3</th>\n",
       "      <td>CRD</td>\n",
       "      <td>2</td>\n",
       "      <td>111042</td>\n",
       "      <td>[\"ABCA4\", \"ADAM9\", \"AIPL1\", \"ATF6\", \"BEST1\", \"...</td>\n",
       "    </tr>\n",
       "    <tr>\n",
       "      <th>4</th>\n",
       "      <td>CMT</td>\n",
       "      <td>3</td>\n",
       "      <td>85438</td>\n",
       "      <td>[\"BSCL2\", \"CTDP1\", \"DCTN1\", \"EGR2\", \"FGD4\", \"F...</td>\n",
       "    </tr>\n",
       "  </tbody>\n",
       "</table>\n",
       "</div>"
      ],
      "text/plain": [
       "  panel  versie  grootte                                              genen\n",
       "0   LCA       1    52103  [\"AIPL1\", \"CABP4\", \"CEP290\", \"CRB1\", \"CRX\", \"D...\n",
       "1   OVR       1        0                                                 []\n",
       "2    RP       2   231550  [\"ABCA4\", \"ADGRA3\", \"ARL2BP\", \"ARL6\", \"BBS1\", ...\n",
       "3   CRD       2   111042  [\"ABCA4\", \"ADAM9\", \"AIPL1\", \"ATF6\", \"BEST1\", \"...\n",
       "4   CMT       3    85438  [\"BSCL2\", \"CTDP1\", \"DCTN1\", \"EGR2\", \"FGD4\", \"F..."
      ]
     },
     "execution_count": 17,
     "metadata": {},
     "output_type": "execute_result"
    }
   ],
   "source": [
    "pd.read_sql('SELECT * FROM panels', sqlite3.connect('captures.sqlite')).head()"
   ]
  },
  {
   "cell_type": "code",
   "execution_count": null,
   "metadata": {
    "collapsed": true
   },
   "outputs": [],
   "source": []
  }
 ],
 "metadata": {
  "kernelspec": {
   "display_name": "Python 3",
   "language": "python",
   "name": "python3"
  },
  "language_info": {
   "codemirror_mode": {
    "name": "ipython",
    "version": 3
   },
   "file_extension": ".py",
   "mimetype": "text/x-python",
   "name": "python",
   "nbconvert_exporter": "python",
   "pygments_lexer": "ipython3",
   "version": "3.4.3"
  }
 },
 "nbformat": 4,
 "nbformat_minor": 1
}
